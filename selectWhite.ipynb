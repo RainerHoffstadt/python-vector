{
 "cells": [
  {
   "cell_type": "code",
   "execution_count": null,
   "outputs": [],
   "source": [
    "import sys\n",
    "\n",
    "from matplotlib import pyplot as plt\n",
    "from matplotlib import image as mpimg\n",
    "import os\n",
    "import shutil\n",
    "path = 'c:/chessResize/bk'\n",
    "destination = 'c:/chessResize/wk'\n",
    "#old = None\n",
    "for x in os.listdir(path):\n",
    "\n",
    "    img = mpimg.imread(path + '/' + x)\n",
    "    #img = abs(255 - img)\n",
    "    plt.imshow(img)\n",
    "    plt.show()\n",
    "    value = input('black or white')\n",
    "    if value == 'w':\n",
    "        #if old is not None:\n",
    "        shutil.move(path + '/' + x, destination + '/' + x)\n",
    "    if value == 'q':\n",
    "        sys.exit()\n",
    "    else:\n",
    "        pass\n",
    "    #old = x"
   ],
   "metadata": {
    "collapsed": false,
    "pycharm": {
     "name": "#%%\n"
    }
   }
  },
  {
   "cell_type": "code",
   "execution_count": null,
   "outputs": [],
   "source": [
    "wwwwwwwww\n",
    "wwwwww\n",
    "wwww\n",
    "www\n",
    "w\n",
    "www\n",
    "www\n",
    "ww\n",
    "wwwwwwwwwwwwwwwwwwwwwwwwwwwwwww\n",
    "www\n",
    "www\n",
    "withww\n",
    "w\n",
    "wwwwwwwwww\n",
    "wwwww\n",
    "wwwwwwww\n",
    "wwwwww\n",
    "wwww\n",
    "wwwww\n",
    "www\n",
    "www\n",
    "ww\n",
    "w\n",
    "withw\n",
    "withw\n",
    "ww\n",
    "w\n",
    "w\n",
    "waaaaaaaaaaaaaaaaaaaaaaaaaaaaaaaa\n",
    "axa"
   ],
   "metadata": {
    "collapsed": false,
    "pycharm": {
     "name": "#%%\n"
    }
   }
  },
  {
   "cell_type": "code",
   "execution_count": null,
   "outputs": [],
   "source": [],
   "metadata": {
    "collapsed": false,
    "pycharm": {
     "name": "#%%\n"
    }
   }
  },
  {
   "cell_type": "code",
   "execution_count": null,
   "outputs": [],
   "source": [],
   "metadata": {
    "collapsed": false,
    "pycharm": {
     "name": "#%%\n"
    }
   }
  },
  {
   "cell_type": "code",
   "execution_count": null,
   "outputs": [],
   "source": [],
   "metadata": {
    "collapsed": false,
    "pycharm": {
     "name": "#%%\n"
    }
   }
  },
  {
   "cell_type": "code",
   "execution_count": null,
   "metadata": {
    "pycharm": {
     "name": "#%%\n"
    }
   },
   "outputs": [],
   "source": []
  },
  {
   "cell_type": "code",
   "execution_count": null,
   "metadata": {
    "pycharm": {
     "name": "#%%\n"
    }
   },
   "outputs": [],
   "source": []
  },
  {
   "cell_type": "code",
   "execution_count": null,
   "metadata": {
    "pycharm": {
     "name": "#%%\n"
    }
   },
   "outputs": [],
   "source": []
  },
  {
   "cell_type": "code",
   "execution_count": 4,
   "metadata": {
    "pycharm": {
     "name": "#%%\n"
    }
   },
   "outputs": [],
   "source": []
  },
  {
   "cell_type": "code",
   "execution_count": 4,
   "metadata": {
    "pycharm": {
     "name": "#%%\n"
    }
   },
   "outputs": [],
   "source": []
  },
  {
   "cell_type": "code",
   "execution_count": null,
   "metadata": {
    "pycharm": {
     "name": "#%%\n"
    }
   },
   "outputs": [],
   "source": []
  }
 ],
 "metadata": {
  "kernelspec": {
   "display_name": "Python 3 (ipykernel)",
   "language": "python",
   "name": "python3"
  },
  "language_info": {
   "codemirror_mode": {
    "name": "ipython",
    "version": 3
   },
   "file_extension": ".py",
   "mimetype": "text/x-python",
   "name": "python",
   "nbconvert_exporter": "python",
   "pygments_lexer": "ipython3",
   "version": "3.9.7"
  }
 },
 "nbformat": 4,
 "nbformat_minor": 1
}